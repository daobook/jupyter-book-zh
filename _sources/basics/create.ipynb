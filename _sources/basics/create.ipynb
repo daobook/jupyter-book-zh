{
 "cells": [
  {
   "cell_type": "markdown",
   "id": "3c216edc",
   "metadata": {},
   "source": [
    "(create-a-template-book)=\n",
    "# 自动创建书\n",
    "\n",
    "本节介绍如何自动创建书籍，以便更快地入门。\n",
    "\n",
    "## Create a book from a simple template\n",
    "\n",
    "Jupyter Book lets you quickly generate a book structure from templates.\n",
    "This section covers the process of creating a template book and building it as an alternative to manually creating the files in your book.\n",
    "\n",
    "To see your options for creating books from templates, run the following command:\n",
    "\n",
    "% doubling the commands so users aren't confused by the !\n",
    "```bash\n",
    "jupyter-book create --help\n",
    "```"
   ]
  },
  {
   "cell_type": "code",
   "execution_count": 1,
   "id": "4f07c6b3",
   "metadata": {
    "tags": [
     "remove-input"
    ]
   },
   "outputs": [
    {
     "name": "stdout",
     "output_type": "stream",
     "text": [
      "Usage: jupyter-book create [OPTIONS] PATH_BOOK\r\n",
      "\r\n",
      "  Create a Jupyter Book template that you can customize.\r\n",
      "\r\n",
      "Options:\r\n",
      "  --cookiecutter  Use cookiecutter to interactively create a Jupyter Book\r\n",
      "                  template.\r\n",
      "\r\n",
      "  -h, --help      Show this message and exit.\r\n"
     ]
    }
   ],
   "source": [
    "!jupyter-book create --help"
   ]
  },
  {
   "cell_type": "markdown",
   "id": "abc10aff",
   "metadata": {},
   "source": [
    "This option is best if you are starting from scratch, or would like to see one example of a simple Jupyter Book on your own filesystem.\n",
    "\n",
    "If you'd just like to quickly create a sample book, you may do so by running the following command:\n",
    "\n",
    "```\n",
    "jupyter-book create mynewbook/\n",
    "```\n",
    "\n",
    "This will generate a mini Jupyter Book that you can both build and explore locally. It will have a few decisions made for you, and you can explore the configuration of the book in `_config.yml` and its structure in `_toc.yml`. Use this book as inspiration, or as a starting point to work from.\n",
    "\n",
    "\n",
    "## Create a more complete book from interactive prompts\n",
    "\n",
    "This option is best if you'd like to answer a few questions from the command line in order to create a template book that is more complex and customized for your use-case.\n",
    "\n",
    "Jupyter Book also provides a [Jupyter Book cookiecutter](https://github.com/executablebooks/cookiecutter-jupyter-book) that can be used to interactively create a book directory structure.\n",
    "\n",
    "```{margin}\n",
    "[`cookiecutter`](https://cookiecutter.readthedocs.io/en/latest/) is a Python tool for quickly generating folders from a templatized repository. Jupyter Book uses `cookiecutter` under the hood.\n",
    "```\n",
    "\n",
    "The cookiecutter is suitable for users that want to create a ready-to-go repository to host their book that includes pre-populated metafiles such as `README`, `LICENSE`, `CONDUCT`, `CONTRIBUTING`, etc., as well as GitHub Actions workflow files to [](publish/gh-actions).\n",
    "\n",
    "To try the cookiecutter template, run the following command:\n",
    "\n",
    "```bash\n",
    "jupyter-book create mynewbook/ --cookiecutter\n",
    "```\n",
    "\n",
    "For more help, see the [Jupyter Book cookiecutter GitHub repository](https://github.com/executablebooks/cookiecutter-jupyter-book), or run:\n",
    "\n",
    "\n",
    "## Create book files from a Table of Contents\n",
    "\n",
    "It is possible to use a `_toc.yml` file in order to create the skeleton of a book automatically.\n",
    "This is useful if you wish to quickly generate empty files from a single structure, and then populate them with content yourselves.\n",
    "\n",
    "To create your book's files from the Table of Contents, use the following command:\n",
    "\n",
    "```bash\n",
    "jupyter-book toc to-project path/to/_toc.yml\n",
    "```\n",
    "\n",
    "This will generate a collection of files according to the structure in `_toc.yml`.\n",
    "\n",
    "In addition, you have a few options to control the behavior of this tool.\n",
    "See below for reference."
   ]
  },
  {
   "cell_type": "code",
   "execution_count": 2,
   "id": "3c8a1767",
   "metadata": {
    "tags": [
     "remove-input"
    ]
   },
   "outputs": [
    {
     "name": "stdout",
     "output_type": "stream",
     "text": [
      "Usage: jupyter-book toc to-project [OPTIONS] TOC_FILE\r\n",
      "\r\n",
      "  Create a project directory from a ToC file.\r\n",
      "\r\n",
      "Options:\r\n",
      "  -p, --path DIRECTORY      The root directory [default: ToC file directory].\r\n",
      "  -e, --extension [rst|md]  The default file extension to use.  [default: rst]\r\n",
      "  -o, --overwrite           Overwrite existing files.\r\n",
      "  -h, --help                Show this message and exit.\r\n"
     ]
    }
   ],
   "source": [
    "!jupyter-book toc to-project -h"
   ]
  }
 ],
 "metadata": {
  "jupytext": {
   "formats": "md:myst",
   "text_representation": {
    "extension": ".md",
    "format_name": "myst",
    "format_version": 0.12,
    "jupytext_version": "1.6.0"
   }
  },
  "kernelspec": {
   "display_name": "Python 3",
   "language": "python",
   "name": "python3"
  },
  "language_info": {
   "codemirror_mode": {
    "name": "ipython",
    "version": 3
   },
   "file_extension": ".py",
   "mimetype": "text/x-python",
   "name": "python",
   "nbconvert_exporter": "python",
   "pygments_lexer": "ipython3",
   "version": "3.9.5"
  },
  "source_map": [
   13,
   32,
   35,
   85
  ]
 },
 "nbformat": 4,
 "nbformat_minor": 5
}