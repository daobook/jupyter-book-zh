{
 "cells": [
  {
   "cell_type": "markdown",
   "id": "25e3bf7b",
   "metadata": {},
   "source": [
    "# Execute and cache your pages\n",
    "\n",
    "Jupyter Book can automatically run and cache any notebook pages.\n",
    "Notebooks can either be run each time the documentation is built,\n",
    "or cached locally so that notebooks will only be re-run when the code cells in a notebook have changed.\n",
    "\n",
    "Caching behaviour is controlled with the `execute:` section [in your `_config.yml` file](../customize/config.md). See\n",
    "the sections below for each configuration option and its effect.\n",
    "\n",
    ":::{tip}\n",
    "If you'd like to execute code that is in your Markdown files,\n",
    "you can use the `{code-cell}` directive in MyST Markdown.\n",
    "See [](../file-types/myst-notebooks.md) for more information.\n",
    ":::\n",
    "\n",
    "## Trigger notebook execution\n",
    "\n",
    "By default, Jupyter Book will execute any content files that have a notebook structure\n",
    "and that are missing at least one output. This is equivalent to the following configuration in _config.yml`:\n",
    "\n",
    "```yaml\n",
    "execute:\n",
    "  execute_notebooks: auto\n",
    "```\n",
    "\n",
    "This will only execute notebooks that are missing at least one output.\n",
    "If the notebook has *all* of its outputs populated, then it will not be executed.\n",
    "\n",
    "**To force the execution of all notebooks, regardless of their outputs**, change the\n",
    "above configuration value to:\n",
    "\n",
    "```yaml\n",
    "execute_notebooks: force\n",
    "```\n",
    "\n",
    "**To cache execution outputs with [jupyter-cache]**, change the above configuration\n",
    "value to:\n",
    "\n",
    "```yaml\n",
    "execute:\n",
    "  execute_notebooks: cache\n",
    "```\n",
    "\n",
    "See {ref}`execute/cache` for more information.\n",
    "\n",
    "**To turn off notebook execution**, change the above configuration value to:\n",
    "\n",
    "```yaml\n",
    "execute:\n",
    "  execute_notebooks: 'off'\n",
    "```\n",
    "\n",
    "(execute/exclude)=\n",
    "## Exclude files from execution\n",
    "\n",
    "**To exclude certain file patterns from execution**, use the following\n",
    "configuration:\n",
    "\n",
    "```yaml\n",
    "execute:\n",
    "  exclude_patterns:\n",
    "    - 'pattern1'\n",
    "    - 'pattern2'\n",
    "    - '*pattern3withwildcard'\n",
    "```\n",
    "\n",
    "Any file that matches one of the items in `exclude_patterns` will not be executed.\n",
    "\n",
    ":::{tip}\n",
    "To auto-exclude all files outside of your table of contents, see [](config:exclude-non-toc-files)\n",
    ":::\n",
    "\n",
    "(execute/cache)=\n",
    "## Caching the notebook execution\n",
    "\n",
    "You may also **cache the results of executing a notebook page** using [jupyter-cache].\n",
    "In this case, when a page is executed, its outputs will be stored in a local database.\n",
    "This allows you to be sure that the outputs in your documentation are up-to-date,\n",
    "while saving time avoiding unnecessary re-execution.\n",
    "It also allows you to store your `.ipynb` files in your `git` repository *without their outputs*,\n",
    "but still leverage a cache to save time when building your site.\n",
    "\n",
    "When you re-build your site, the following will happen:\n",
    "\n",
    "* Notebooks that have not seen changes to their **code cells** since the last build will not be re-executed.\n",
    "  Instead, their outputs will be pulled from the cache and inserted into your site.\n",
    "* Notebooks that **have had any change to their code cells** will be re-executed\n",
    "  and the cache will be updated with the new outputs.\n",
    "\n",
    "To enable caching of notebook outputs, use the following configuration:\n",
    "\n",
    "```yaml\n",
    "execute:\n",
    "  execute_notebooks: cache\n",
    "```\n",
    "\n",
    "By default, the cache will be placed in the parent of your build folder.\n",
    "Generally, this is in `_build/.jupyter_cache`.\n",
    "\n",
    "You may also specify a path to the location of a jupyter cache you'd like to use:\n",
    "\n",
    "```yaml\n",
    "execute:\n",
    "  cache: path/to/mycache\n",
    "```\n",
    "\n",
    "The path should point to an **empty folder**, or a folder where a **jupyter cache already exists**.\n",
    "\n",
    "[jupyter-cache]: https://github.com/executablebooks/jupyter-cache \"the Jupyter Cache Project\"\n",
    "\n",
    "## Execution configuration\n",
    "\n",
    "You can control notebook execution and how output content is handled at a project level using your `_config.yml` but, in some cases, also at a notebook and code cell level.\n",
    "Below we explore a number of ways to achieve this.\n",
    "\n",
    ":::{seealso}\n",
    "[](jupyter-cell-tags) and [](./code-outputs.md).\n",
    ":::\n",
    "\n",
    "### The execution working directory\n",
    "\n",
    ":::{important}\n",
    "The default behaviour of `cache` is now to run in the local directory.\n",
    "This is a change from `v0.7`.\n",
    ":::\n",
    "\n",
    "By default, the command working directory (cwd) in which a notebook runs will be the directory in which it is located (for both `auto` and `cache`). This means that notebooks requiring access to assets in relative paths will work.\n",
    "\n",
    "Alternatively, if you wish for your notebooks to isolate your notebook execution in a temporary folder,\n",
    "you can use the following `_config.yml` setting:\n",
    "\n",
    "```yaml\n",
    "execute:\n",
    "  run_in_temp: true\n",
    "```\n",
    "\n",
    "### Setting execution timeout\n",
    "\n",
    "Execution timeout defines the maximum time (in seconds) each notebook cell is allowed to run for.\n",
    "If the execution takes longer an exception will be raised.\n",
    "The default is 30 seconds, so in cases of long-running cells you may want to specify a higher value.\n",
    "The timeout option can also be set to -1, to remove any restriction on execution time.\n",
    "\n",
    "You can set the timeout for all notebook executions in your `_config.yml`:\n",
    "\n",
    "```yaml\n",
    "execute:\n",
    "  timeout: 100\n",
    "```\n",
    "\n",
    "This global value can also be overridden per notebook by adding this to your notebook metadata:\n",
    "\n",
    "```json\n",
    "{\n",
    " \"metadata\": {\n",
    "  \"execution\": {\n",
    "      \"timeout\": 30\n",
    "  }\n",
    "}\n",
    "```\n",
    "\n",
    "### Dealing with code that raises errors\n",
    "\n",
    "In some cases, you may want to intentionally show code that doesn't work\n",
    "(e.g., to show the error message).\n",
    "\n",
    "You can allow errors for all notebooks in your `_config.yml`:\n",
    "\n",
    "```yaml\n",
    "execute:\n",
    "  allow_errors: true\n",
    "```\n",
    "\n",
    "This global value can also be overridden per notebook by adding this to your notebook metadata:\n",
    "\n",
    "```json\n",
    "{\n",
    " \"metadata\": {\n",
    "  \"execution\": {\n",
    "      \"allow_errors\": false\n",
    "  }\n",
    "}\n",
    "```\n",
    "\n",
    "Lastly, you can allow errors at a cell level, by adding a `raises-exception` tag to your code cell.\n",
    "This can be done via a Jupyter interface, or via the `{code-cell}` directive like so:\n",
    "\n",
    "````md\n",
    "```{code-cell}\n",
    "---\n",
    "tags: [raises-exception]\n",
    "---\n",
    "print(thisvariabledoesntexist)\n",
    "```\n",
    "````\n",
    "\n",
    "Which produces:"
   ]
  },
  {
   "cell_type": "code",
   "execution_count": 1,
   "id": "2cee6ef9",
   "metadata": {
    "tags": [
     "raises-exception"
    ]
   },
   "outputs": [
    {
     "ename": "NameError",
     "evalue": "name 'thisvariabledoesntexist' is not defined",
     "output_type": "error",
     "traceback": [
      "\u001b[0;31m---------------------------------------------------------------------------\u001b[0m",
      "\u001b[0;31mNameError\u001b[0m                                 Traceback (most recent call last)",
      "\u001b[0;32m/tmp/ipykernel_2865/1091175326.py\u001b[0m in \u001b[0;36m<module>\u001b[0;34m\u001b[0m\n\u001b[0;32m----> 1\u001b[0;31m \u001b[0mprint\u001b[0m\u001b[0;34m(\u001b[0m\u001b[0mthisvariabledoesntexist\u001b[0m\u001b[0;34m)\u001b[0m\u001b[0;34m\u001b[0m\u001b[0;34m\u001b[0m\u001b[0m\n\u001b[0m",
      "\u001b[0;31mNameError\u001b[0m: name 'thisvariabledoesntexist' is not defined"
     ]
    }
   ],
   "source": [
    "print(thisvariabledoesntexist)"
   ]
  },
  {
   "cell_type": "markdown",
   "id": "237af04e",
   "metadata": {},
   "source": [
    "### Dealing with code that produces stderr\n",
    "\n",
    "You may also wish to control how stderr outputs are dealt with.\n",
    "\n",
    "Alternatively, you can configure how stdout is dealt with at a global configuration level, using the `nb_output_stderr` configuration value.\n",
    "\n",
    "You can configure the default behaviour for all notebooks in your `_config.yml`:\n",
    "\n",
    "```yaml\n",
    "execute:\n",
    "  stderr_output: show\n",
    "```\n",
    "\n",
    "Where the value is one of:\n",
    "\n",
    "* `\"show\"` (default): show all stderr (unless a `remove-stderr` tag is present)\n",
    "* `\"remove\"`: remove all stderr\n",
    "* `\"remove-warn\"`: remove all stderr, but log a warning if any found\n",
    "* `\"warn\"`, `\"error\"` or `\"severe\"`: log the stderr at a certain level, if any found.\n",
    "\n",
    "You can also remove stderr at a cell level, using the `remove-stderr` [cell tag](https://jupyter-notebook.readthedocs.io/en/stable/changelog.html#cell-tags), like so:\n",
    "\n",
    "````md\n",
    "```{code-cell} ipython3\n",
    ":tags: [remove-stderr]\n",
    "\n",
    "import sys\n",
    "print(\"this is some stdout\")\n",
    "print(\"this is some stderr\", file=sys.stderr)\n",
    "```\n",
    "````\n",
    "\n",
    "which produces"
   ]
  },
  {
   "cell_type": "code",
   "execution_count": 2,
   "id": "2059a499",
   "metadata": {
    "tags": [
     "remove-stderr"
    ]
   },
   "outputs": [
    {
     "name": "stdout",
     "output_type": "stream",
     "text": [
      "this is some stdout\n"
     ]
    },
    {
     "name": "stderr",
     "output_type": "stream",
     "text": [
      "this is some stderr\n"
     ]
    }
   ],
   "source": [
    "import sys\n",
    "print(\"this is some stdout\")\n",
    "print(\"this is some stderr\", file=sys.stderr)"
   ]
  },
  {
   "cell_type": "markdown",
   "id": "df87f1c1",
   "metadata": {},
   "source": [
    "### Dealing with code that produces stdout\n",
    "\n",
    "Similar to stderr, you can remove stdout at a cell level with the `remove-stdout` tag, by which\n",
    "\n",
    "````md\n",
    "```{code-cell} ipython3\n",
    ":tags: [remove-stdout]\n",
    "\n",
    "import sys\n",
    "print(\"this is some stdout\")\n",
    "print(\"this is some stderr\", file=sys.stderr)\n",
    "```\n",
    "````\n",
    "\n",
    "produces the following:"
   ]
  },
  {
   "cell_type": "code",
   "execution_count": 3,
   "id": "de424ab7",
   "metadata": {
    "tags": [
     "remove-stdout"
    ]
   },
   "outputs": [
    {
     "name": "stdout",
     "output_type": "stream",
     "text": [
      "this is some stdout\n"
     ]
    },
    {
     "name": "stderr",
     "output_type": "stream",
     "text": [
      "this is some stderr\n"
     ]
    }
   ],
   "source": [
    "import sys\n",
    "print(\"this is some stdout\")\n",
    "print(\"this is some stderr\", file=sys.stderr)"
   ]
  },
  {
   "cell_type": "markdown",
   "id": "8197464c",
   "metadata": {},
   "source": [
    "## Execution statistics\n",
    "\n",
    "As notebooks are executed, certain statistics are stored on the build environment by MyST-NB.\n",
    "The simplest way to access and visualise this data is using the `{nb-exec-table}` directive.\n",
    "\n",
    ":::{seealso}\n",
    "The [MyST-NB documentation](myst-nb:execute/statistics), for creating your own directives to manipulate this data.\n",
    ":::\n",
    "\n",
    "The simple directive\n",
    "\n",
    "````md\n",
    "```{nb-exec-table}\n",
    "```\n",
    "````\n",
    "\n",
    "produces:\n",
    "\n",
    "```{nb-exec-table}\n",
    "```"
   ]
  }
 ],
 "metadata": {
  "jupytext": {
   "cell_metadata_filter": "-all",
   "formats": "md:myst",
   "text_representation": {
    "extension": ".md",
    "format_name": "myst"
   }
  },
  "kernelspec": {
   "display_name": "Python 3",
   "language": "python",
   "name": "python3"
  },
  "language_info": {
   "codemirror_mode": {
    "name": "ipython",
    "version": 3
   },
   "file_extension": ".py",
   "mimetype": "text/x-python",
   "name": "python",
   "nbconvert_exporter": "python",
   "pygments_lexer": "ipython3",
   "version": "3.8.5"
  },
  "source_map": [
   12,
   212,
   217,
   253,
   259,
   277,
   283
  ]
 },
 "nbformat": 4,
 "nbformat_minor": 5
}