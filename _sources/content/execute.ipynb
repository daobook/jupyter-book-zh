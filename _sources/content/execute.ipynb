{
 "cells": [
  {
   "cell_type": "markdown",
   "id": "6f3e46d1",
   "metadata": {},
   "source": [
    "# 执行并缓存页面\n",
    "\n",
    "Jupyter Book 可以自动运行和缓存任何笔记本的页面。笔记本可以在每次构建文档时运行，也可以在本地缓存，以便只有当笔记本中的代码单元发生更改时才会重新运行笔记本。\n",
    "\n",
    "缓存行为由 [`_config.yml` 文件](../customize/config.md) 中的 `execute:` 部分控制。有关每个配置选项及其效果，请参见下面的部分。\n",
    "\n",
    ":::{tip}\n",
    "如果你想执行 Markdown 文件中的代码，你可以使用 MyST Markdown 中的 `{code-cell}` 指令。查看 [](../file-types/myst-notebooks.md) 以获取更多信息。\n",
    ":::\n",
    "\n",
    "## 触发笔记本执行\n",
    "\n",
    "默认情况下，Jupyter Book 将执行任何具有笔记本结构且至少缺少一个输出的内容文件。这相当于 `_config.yml` 中的以下配置:\n",
    "\n",
    "```yaml\n",
    "execute:\n",
    "  execute_notebooks: auto\n",
    "```\n",
    "\n",
    "这将只执行缺少至少一个输出的笔记本。如果笔记本已经填充了它的所有输出，那么它将不会被执行。\n",
    "\n",
    "要**强制执行所有笔记本，而不管它们的输出**，请将上面的配置值更改为：\n",
    "\n",
    "```yaml\n",
    "execute_notebooks: force\n",
    "```\n",
    "\n",
    "要**使用 [jupyter-cache] 缓存执行输出**，请将上面的配置值更改为：\n",
    "\n",
    "```yaml\n",
    "execute:\n",
    "  execute_notebooks: cache\n",
    "```\n",
    "\n",
    "有关更多信息，请参见 {ref}`execute/cache` 。\n",
    "\n",
    "要**关闭笔记本执行**，请将上述配置值更改为：\n",
    "\n",
    "```yaml\n",
    "execute:\n",
    "  execute_notebooks: 'off'\n",
    "```\n",
    "\n",
    "(execute/exclude)=\n",
    "## 从执行中排除文件\n",
    "\n",
    "要**从执行中排除某些文件模式**，请使用以下配置：\n",
    "\n",
    "```yaml\n",
    "execute:\n",
    "  exclude_patterns:\n",
    "    - 'pattern1'\n",
    "    - 'pattern2'\n",
    "    - '*pattern3withwildcard'\n",
    "```\n",
    "\n",
    "任何匹配 `exclude_patterns` 中的一个项的文件都不会被执行。\n",
    "\n",
    ":::{tip}\n",
    "要自动排除目录之外的所有文件，请参见 [](config:exclude-non-toc-files)\n",
    ":::\n",
    "\n",
    "(execute/cache)=\n",
    "## 缓存笔记本执行\n",
    "\n",
    "您也可以使用 [jupyter-cache] 缓存执行笔记本页面的结果。在这种情况下，当执行页面时，它的输出将存储在本地数据库中。这允许您确保文档中的输出是最新的，同时节省时间，避免不必要的重新执行。它还允许您在 `git` 存储库中存储 `.ipynb` 文件，而不需要它们的输出，但在构建站点时仍然利用缓存节省时间。\n",
    "\n",
    "当你重新构建你的网站时，会发生以下情况：\n",
    "\n",
    "* 自上次构建以来**代码单元**没有发生变化的笔记本将不会被重新执行。相反，它们的输出将从缓存中提取并插入到您的站点中。\n",
    "* 对其代码单元**有任何更改的笔记本**将被重新执行，缓存将被新的输出更新。\n",
    "\n",
    "要启用笔记本输出的缓存，请使用以下配置：\n",
    "\n",
    "```yaml\n",
    "execute:\n",
    "  execute_notebooks: cache\n",
    "```\n",
    "\n",
    "默认情况下，缓存将放置在构建文件夹的父目录中。一般来说，这是 `_build/.jupyter_cache` 中。\n",
    "\n",
    "你也可以指定一个路径到你想要使用的 jupyter cache 的位置：\n",
    "\n",
    "```yaml\n",
    "execute:\n",
    "  cache: path/to/mycache\n",
    "```\n",
    "\n",
    "该路径应该指向一个**空文件夹**，或者一个文件夹中已经**存在的 jupyter cache**。\n",
    "\n",
    "[jupyter-cache]: https://github.com/executablebooks/jupyter-cache \"the Jupyter Cache Project\"\n",
    "\n",
    "## 执行配置\n",
    "\n",
    "你可以使用 `_config.yml` 在项目级别控制笔记本的执行和输出内容的处理，但在某些情况下，也在笔记本和代码单元级别。下面我们将探讨几种实现这一目标的方法。\n",
    "\n",
    ":::{seealso}\n",
    "[](jupyter-cell-tags) 和 [](./code-outputs.md).\n",
    ":::\n",
    "\n",
    "### 执行工作目录\n",
    "\n",
    ":::{important}\n",
    "`cache` 的默认行为现在是在本地目录中运行。这是 `v0.7` 的一个变化。\n",
    ":::\n",
    "\n",
    "默认情况下，运行笔记本的命令工作目录（cwd）将是笔记本所在的目录（对于 `auto` 和 `cache` 而言）。这意味着需要在相对路径上访问 assets 的笔记本可以工作。\n",
    "\n",
    "或者，如果您希望您的笔记本在一个临时文件夹中隔离您的笔记本执行，您可以使用以下 `_config.yml` 设置：\n",
    "\n",
    "```yaml\n",
    "execute:\n",
    "  run_in_temp: true\n",
    "```\n",
    "\n",
    "### 设置执行超时\n",
    "\n",
    "执行超时定义了每个笔记本单元格允许运行的最大时间(以秒为单位)。如果执行时间较长，将引发异常。默认值是 30 秒，因此对于长时间运行的单元格，您可能希望指定一个更高的值。`timeout` 选项也可以设置为 `-1`，以删除对执行时间的任何限制。\n",
    "\n",
    "你可以在 `_config.yml` 中设置所有笔记本执行的超时时间：\n",
    "\n",
    "```yaml\n",
    "execute:\n",
    "  timeout: 100\n",
    "```\n",
    "\n",
    "这个全局值也可以通过添加到你的笔记本元数据来覆盖每个笔记本：\n",
    "\n",
    "```json\n",
    "{\n",
    " \"metadata\": {\n",
    "  \"execution\": {\n",
    "      \"timeout\": 30\n",
    "  }\n",
    "}\n",
    "```\n",
    "\n",
    "### 处理引发错误的代码\n",
    "\n",
    "在某些情况下，您可能希望有意地显示不起作用的代码（例如，显示错误消息）\n",
    "\n",
    "你可以在 `_config.yml` 中允许所有笔记本出错：\n",
    "\n",
    "```yaml\n",
    "execute:\n",
    "  allow_errors: true\n",
    "```\n",
    "\n",
    "这个全局值也可以通过添加到你的笔记本元数据来覆盖每个笔记本：\n",
    "\n",
    "```json\n",
    "{\n",
    " \"metadata\": {\n",
    "  \"execution\": {\n",
    "      \"allow_errors\": false\n",
    "  }\n",
    "}\n",
    "```\n",
    "\n",
    "最后，通过向代码单元格添加 `raises-exception` 标记，可以允许单元格级别的错误。这可以通过一个 Jupyter 接口来实现，或者通过 `{code-cell}` 指令:\n",
    "\n",
    "Lastly, you can allow errors at a cell level, by adding a `raises-exception` tag to your code cell.\n",
    "This can be done via a Jupyter interface, or via the `{code-cell}` directive like so:\n",
    "\n",
    "````md\n",
    "```{code-cell}\n",
    "---\n",
    "tags: [raises-exception]\n",
    "---\n",
    "print(thisvariabledoesntexist)\n",
    "```\n",
    "````\n",
    "\n",
    "将产生"
   ]
  },
  {
   "cell_type": "code",
   "execution_count": 1,
   "id": "10a5d4c3",
   "metadata": {
    "tags": [
     "raises-exception"
    ]
   },
   "outputs": [
    {
     "ename": "NameError",
     "evalue": "name 'thisvariabledoesntexist' is not defined",
     "output_type": "error",
     "traceback": [
      "\u001b[0;31m---------------------------------------------------------------------------\u001b[0m",
      "\u001b[0;31mNameError\u001b[0m                                 Traceback (most recent call last)",
      "\u001b[0;32m/tmp/ipykernel_2914/1091175326.py\u001b[0m in \u001b[0;36m<module>\u001b[0;34m\u001b[0m\n\u001b[0;32m----> 1\u001b[0;31m \u001b[0mprint\u001b[0m\u001b[0;34m(\u001b[0m\u001b[0mthisvariabledoesntexist\u001b[0m\u001b[0;34m)\u001b[0m\u001b[0;34m\u001b[0m\u001b[0;34m\u001b[0m\u001b[0m\n\u001b[0m",
      "\u001b[0;31mNameError\u001b[0m: name 'thisvariabledoesntexist' is not defined"
     ]
    }
   ],
   "source": [
    "print(thisvariabledoesntexist)"
   ]
  },
  {
   "cell_type": "markdown",
   "id": "245c5c64",
   "metadata": {},
   "source": [
    "### 处理产生标准错误的代码\n",
    "\n",
    "您可能还希望控制如何处理 stderr 输出。\n",
    "\n",
    "或者，您可以使用 `nb_output_stderr` 配置值在全局配置级别配置如何处理 stdout。\n",
    "\n",
    "你可以在 `_config.yml` 中配置所有笔记本的默认行为：\n",
    "\n",
    "```yaml\n",
    "execute:\n",
    "  stderr_output: show\n",
    "```\n",
    "\n",
    "其中值为：\n",
    "\n",
    "* `\"show\"` （默认）：显示所有 stderr（除非有 `remove-stderr` 标记）\n",
    "* `\"remove\"`: 移除全部 stderr\n",
    "* `\"remove-warn\"`：移除全部 stderr，但如果有发现，就记录警告\n",
    "* `\"warn\"`, `\"error\"` 或 `\"severe\"`：如果发现任何标准错误，则将其记录在某个级别。\n",
    "\n",
    "你也可以在单元格级别删除 stderr，使用 `remove-stderr` [cell 标签](https://jupyter-notebook.readthedocs.io/en/stable/changelog.html#cell-tags)，如下所示：\n",
    "\n",
    "````md\n",
    "```{code-cell} ipython3\n",
    ":tags: [remove-stderr]\n",
    "\n",
    "import sys\n",
    "print(\"this is some stdout\")\n",
    "print(\"this is some stderr\", file=sys.stderr)\n",
    "```\n",
    "````\n",
    "\n",
    "生成："
   ]
  },
  {
   "cell_type": "code",
   "execution_count": 2,
   "id": "ed70e2eb",
   "metadata": {
    "tags": [
     "remove-stderr"
    ]
   },
   "outputs": [
    {
     "name": "stdout",
     "output_type": "stream",
     "text": [
      "this is some stdout\n"
     ]
    },
    {
     "name": "stderr",
     "output_type": "stream",
     "text": [
      "this is some stderr\n"
     ]
    }
   ],
   "source": [
    "import sys\n",
    "print(\"this is some stdout\")\n",
    "print(\"this is some stderr\", file=sys.stderr)"
   ]
  },
  {
   "cell_type": "markdown",
   "id": "d3223b58",
   "metadata": {},
   "source": [
    "### 处理产生标准输出的代码\n",
    "\n",
    "与 stderr 类似，您可以使用 `remove-stdout` 标记在单元格级别删除 stdout，通过此标记\n",
    "\n",
    "````md\n",
    "```{code-cell} ipython3\n",
    ":tags: [remove-stdout]\n",
    "\n",
    "import sys\n",
    "print(\"this is some stdout\")\n",
    "print(\"this is some stderr\", file=sys.stderr)\n",
    "```\n",
    "````\n",
    "\n",
    "产生以下："
   ]
  },
  {
   "cell_type": "code",
   "execution_count": 3,
   "id": "da059475",
   "metadata": {
    "tags": [
     "remove-stdout"
    ]
   },
   "outputs": [
    {
     "name": "stdout",
     "output_type": "stream",
     "text": [
      "this is some stdout\n"
     ]
    },
    {
     "name": "stderr",
     "output_type": "stream",
     "text": [
      "this is some stderr\n"
     ]
    }
   ],
   "source": [
    "import sys\n",
    "print(\"this is some stdout\")\n",
    "print(\"this is some stderr\", file=sys.stderr)"
   ]
  },
  {
   "cell_type": "markdown",
   "id": "b24dbb3b",
   "metadata": {},
   "source": [
    "## 执行统计数据\n",
    "\n",
    "当笔记本被执行时，某些统计数据被 MyST-NB 存储在构建环境中。访问和可视化这些数据的最简单的方法是使用 `{nb-exec-table}` 指令。\n",
    "\n",
    ":::{seealso}\n",
    "[MyST-NB 文档](myst-nb:execute/statistics)，用于创建自己的指令来操作这些数据。\n",
    ":::\n",
    "\n",
    "简单的指令\n",
    "\n",
    "````md\n",
    "```{nb-exec-table}\n",
    "```\n",
    "````\n",
    "\n",
    "输出：\n",
    "\n",
    "```{nb-exec-table}\n",
    "```"
   ]
  }
 ],
 "metadata": {
  "jupytext": {
   "cell_metadata_filter": "-all",
   "formats": "md:myst",
   "text_representation": {
    "extension": ".md",
    "format_name": "myst"
   }
  },
  "kernelspec": {
   "display_name": "Python 3",
   "language": "python",
   "name": "python3"
  },
  "language_info": {
   "codemirror_mode": {
    "name": "ipython",
    "version": 3
   },
   "file_extension": ".py",
   "mimetype": "text/x-python",
   "name": "python",
   "nbconvert_exporter": "python",
   "pygments_lexer": "ipython3",
   "version": "3.9.5"
  },
  "source_map": [
   12,
   189,
   194,
   230,
   236,
   254,
   260
  ]
 },
 "nbformat": 4,
 "nbformat_minor": 5
}