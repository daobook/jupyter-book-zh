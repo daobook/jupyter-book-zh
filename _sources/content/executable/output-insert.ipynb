{
 "cells": [
  {
   "cell_type": "markdown",
   "id": "a73d4706",
   "metadata": {},
   "source": [
    "(content:code-outputs:glue)=\n",
    "# 存储代码输出并插入到内容中\n",
    "\n",
    "您经常希望在一个笔记本中运行分析，并将它们插入到文档的其他地方。例如，如果你想包含一个图，或者如果你想引用你做过的一个分析。\n",
    "\n",
    "```{margin}\n",
    "目前，`glue` 只适用于 Python。\n",
    "```\n",
    "来自 [MyST-NB](https://myst-nb.readthedocs.io/) 的 `glue` 工具允许你在笔记本中添加一个键到变量中，然后通过引用该键在你的书中显示这些变量。它遵循两个步骤：\n",
    "\n",
    "* **将变量绑定（glue）到名称（name）上**。通过在您想在书中其他地方重用的变量上使用 `myst_nb.glue` 函数来实现这一点。您将为该变量指定一个日后可以引用的名称。\n",
    "* **从页面内容中引用该变量**。然后，在编写内容时，使用 `{glue:}` 角色将变量插入到文本中。\n",
    "\n",
    "我们将在下面更详细地介绍每个步骤。\n",
    "\n",
    "```{margin}\n",
    "有关角色的更多信息，请参阅 [](../myst.md)。\n",
    "```"
   ]
  },
  {
   "cell_type": "markdown",
   "id": "bfcd0bd8",
   "metadata": {},
   "source": [
    "(glue/gluing)=\n",
    "## 把变量 glue 在你的笔记本上\n",
    "\n",
    "您可以使用 `myst_nb.glue()` 将变量的值赋给您选择的键。`glue` 将存储通常用于显示该变量的所有信息（例如，通过将变量放在代码单元格的末尾来显示该变量时发生的任何事情）。选择一个您将记住的键，因为您将在以后使用它。\n",
    "\n",
    "下面的代码将一个变量绑定在笔记本的 `\"cool_text\"` 键上："
   ]
  },
  {
   "cell_type": "code",
   "execution_count": 1,
   "id": "55b7c413",
   "metadata": {},
   "outputs": [
    {
     "data": {
      "text/plain": [
       "'here is some text!'"
      ]
     },
     "metadata": {
      "scrapbook": {
       "mime_prefix": "",
       "name": "cool_text"
      }
     },
     "output_type": "display_data"
    }
   ],
   "source": [
    "from myst_nb import glue\n",
    "my_variable = \"here is some text!\"\n",
    "glue(\"cool_text\", my_variable)"
   ]
  },
  {
   "cell_type": "markdown",
   "id": "b9b1cb2e",
   "metadata": {},
   "source": [
    "然后可以将其插入到文本中。在内容中添加 `` {glue:}`cool_text` ``，结果如下：{glue:}`cool_text`。\n",
    "\n",
    "### 将数字、图和表绑定起来\n",
    "\n",
    "你可以把任何东西绑定在笔记本上，然后用 `{glue:}` 显示出来。这里我们将展示如何绑定**数字和图像**。我们将模拟一些数据并在其上运行一个简单的引导程序。我们将隐藏此过程大部分代码，以集中在绑定部分。"
   ]
  },
  {
   "cell_type": "code",
   "execution_count": 2,
   "id": "294ba432",
   "metadata": {
    "tags": [
     "hide-cell"
    ]
   },
   "outputs": [],
   "source": [
    "# Simulate some data and bootstrap the mean of the data\n",
    "import numpy as np\n",
    "import pandas as pd\n",
    "import matplotlib.pyplot as plt\n",
    "\n",
    "n_points = 10000\n",
    "n_boots = 1000\n",
    "mean, sd = (3, .2)\n",
    "data = sd*np.random.randn(n_points) + mean\n",
    "bootstrap_indices = np.random.randint(0, n_points, n_points*n_boots).reshape((n_boots, n_points))"
   ]
  },
  {
   "cell_type": "markdown",
   "id": "16f8749c",
   "metadata": {},
   "source": [
    "在下面的单元格中，`data` 包含我们的数据，`bootstrap_indices` 是每个引导程序中的示例索引的集合。下面我们将计算一些感兴趣的统计数据，并将它们 **`glue()`** 在笔记本上。"
   ]
  },
  {
   "cell_type": "code",
   "execution_count": 3,
   "id": "4344b66b",
   "metadata": {},
   "outputs": [
    {
     "data": {
      "text/plain": [
       "3.000556547476734"
      ]
     },
     "metadata": {
      "scrapbook": {
       "mime_prefix": "",
       "name": "boot_mean"
      }
     },
     "output_type": "display_data"
    },
    {
     "data": {
      "text/plain": [
       "2.987932022485732"
      ]
     },
     "metadata": {
      "scrapbook": {
       "mime_prefix": "",
       "name": "boot_clo"
      }
     },
     "output_type": "display_data"
    },
    {
     "data": {
      "text/plain": [
       "3.0126333804900325"
      ]
     },
     "metadata": {
      "scrapbook": {
       "mime_prefix": "",
       "name": "boot_chi"
      }
     },
     "output_type": "display_data"
    }
   ],
   "source": [
    "# Calculate the mean of a bunch of random samples\n",
    "means = data[bootstrap_indices].mean(0)\n",
    "# Calculate the 95% confidence interval for the mean\n",
    "clo, chi = np.percentile(means, [2.5, 97.5])\n",
    "\n",
    "# Store the values in our notebook\n",
    "glue(\"boot_mean\", means.mean())\n",
    "glue(\"boot_clo\", clo)\n",
    "glue(\"boot_chi\", chi)"
   ]
  },
  {
   "cell_type": "markdown",
   "id": "ebf87a3c",
   "metadata": {},
   "source": [
    "默认情况下，`glue` 将显示您正在绑定的变量的值。这对于 sanity-checking 其值的完整性很有用。如果您想**阻止显示**，请使用 `display=False` 选项。注意下面，我们也覆盖了 `boot_chi` 的值（但使用了相同的值）："
   ]
  },
  {
   "cell_type": "code",
   "execution_count": 4,
   "id": "3b307374",
   "metadata": {},
   "outputs": [
    {
     "data": {
      "text/plain": [
       "3.0126333804900325"
      ]
     },
     "metadata": {
      "scrapbook": {
       "mime_prefix": "application/papermill.record/",
       "name": "boot_chi_notdisplayed"
      }
     },
     "output_type": "display_data"
    }
   ],
   "source": [
    "glue(\"boot_chi_notdisplayed\", chi, display=False)"
   ]
  },
  {
   "cell_type": "markdown",
   "id": "bf60f9d3",
   "metadata": {},
   "source": [
    "你也可以绑定可视化，比如 Matplotlib 图形（这里我们使用 `display=False` 来确保图形不会绘制两次）："
   ]
  },
  {
   "cell_type": "code",
   "execution_count": 5,
   "id": "97675a61",
   "metadata": {},
   "outputs": [
    {
     "data": {
      "image/png": "[encoded data removed]",
      "text/plain": [
       "<Figure size 432x288 with 1 Axes>"
      ]
     },
     "metadata": {
      "filenames": {
       "image/png": "/home/runner/work/jupyter-book-zh/jupyter-book-zh/_build/jupyter_execute/content/executable/output-insert_10_0.png"
      },
      "scrapbook": {
       "mime_prefix": "application/papermill.record/",
       "name": "boot_fig"
      }
     },
     "output_type": "display_data"
    },
    {
     "data": {
      "image/png": "[encoded data removed]",
      "text/plain": [
       "<Figure size 432x144 with 1 Axes>"
      ]
     },
     "metadata": {
      "filenames": {
       "image/png": "/home/runner/work/jupyter-book-zh/jupyter-book-zh/_build/jupyter_execute/content/executable/output-insert_10_1.png"
      },
      "scrapbook": {
       "mime_prefix": "application/papermill.record/",
       "name": "sorted_means_fig"
      }
     },
     "output_type": "display_data"
    },
    {
     "data": {
      "image/png": "[encoded data removed]",
      "text/plain": [
       "<Figure size 432x288 with 1 Axes>"
      ]
     },
     "metadata": {
      "filenames": {
       "image/png": "/home/runner/work/jupyter-book-zh/jupyter-book-zh/_build/jupyter_execute/content/executable/output-insert_10_2.png"
      },
      "needs_background": "light"
     },
     "output_type": "display_data"
    },
    {
     "data": {
      "image/png": "[encoded data removed]",
      "text/plain": [
       "<Figure size 432x144 with 1 Axes>"
      ]
     },
     "metadata": {
      "filenames": {
       "image/png": "/home/runner/work/jupyter-book-zh/jupyter-book-zh/_build/jupyter_execute/content/executable/output-insert_10_3.png"
      },
      "needs_background": "light"
     },
     "output_type": "display_data"
    }
   ],
   "source": [
    "# Visualize the historgram with the intervals\n",
    "fig, ax = plt.subplots()\n",
    "ax.hist(means)\n",
    "for ln in [clo, chi]:\n",
    "    ax.axvline(ln, ls='--', c='r')\n",
    "ax.set_title(\"Bootstrap distribution and 95% CI\")\n",
    "\n",
    "# And a wider figure to show a timeseries\n",
    "fig2, ax = plt.subplots(figsize=(6, 2))\n",
    "ax.plot(np.sort(means), lw=3, c='r')\n",
    "ax.set_axis_off()\n",
    "\n",
    "glue(\"boot_fig\", fig, display=False)\n",
    "glue(\"sorted_means_fig\", fig2, display=False)"
   ]
  },
  {
   "cell_type": "markdown",
   "id": "99133eb5",
   "metadata": {},
   "source": [
    "对于 `DataFrames`（或其他类似表的对象）也可以这样做。"
   ]
  },
  {
   "cell_type": "code",
   "execution_count": 6,
   "id": "0cddf35f",
   "metadata": {},
   "outputs": [
    {
     "data": {
      "text/html": [
       "<div>\n",
       "<style scoped>\n",
       "    .dataframe tbody tr th:only-of-type {\n",
       "        vertical-align: middle;\n",
       "    }\n",
       "\n",
       "    .dataframe tbody tr th {\n",
       "        vertical-align: top;\n",
       "    }\n",
       "\n",
       "    .dataframe thead th {\n",
       "        text-align: right;\n",
       "    }\n",
       "</style>\n",
       "<table border=\"1\" class=\"dataframe\">\n",
       "  <thead>\n",
       "    <tr style=\"text-align: right;\">\n",
       "      <th></th>\n",
       "      <th>first</th>\n",
       "      <th>second</th>\n",
       "      <th>third</th>\n",
       "    </tr>\n",
       "  </thead>\n",
       "  <tbody>\n",
       "    <tr>\n",
       "      <th>0</th>\n",
       "      <td>3.020288</td>\n",
       "      <td>3.129885</td>\n",
       "      <td>2.952810</td>\n",
       "    </tr>\n",
       "    <tr>\n",
       "      <th>1</th>\n",
       "      <td>3.054325</td>\n",
       "      <td>3.057583</td>\n",
       "      <td>3.225123</td>\n",
       "    </tr>\n",
       "    <tr>\n",
       "      <th>2</th>\n",
       "      <td>2.819802</td>\n",
       "      <td>3.214863</td>\n",
       "      <td>2.635151</td>\n",
       "    </tr>\n",
       "    <tr>\n",
       "      <th>3</th>\n",
       "      <td>2.557305</td>\n",
       "      <td>3.061324</td>\n",
       "      <td>2.950377</td>\n",
       "    </tr>\n",
       "    <tr>\n",
       "      <th>4</th>\n",
       "      <td>2.909187</td>\n",
       "      <td>2.936774</td>\n",
       "      <td>2.905486</td>\n",
       "    </tr>\n",
       "  </tbody>\n",
       "</table>\n",
       "</div>"
      ],
      "text/plain": [
       "      first    second     third\n",
       "0  3.020288  3.129885  2.952810\n",
       "1  3.054325  3.057583  3.225123\n",
       "2  2.819802  3.214863  2.635151\n",
       "3  2.557305  3.061324  2.950377\n",
       "4  2.909187  2.936774  2.905486"
      ]
     },
     "metadata": {
      "scrapbook": {
       "mime_prefix": "",
       "name": "df_tbl"
      }
     },
     "output_type": "display_data"
    }
   ],
   "source": [
    "bootstrap_subsets = data[bootstrap_indices][:3, :5].T\n",
    "df = pd.DataFrame(bootstrap_subsets, columns=[\"first\", \"second\", \"third\"])\n",
    "glue(\"df_tbl\", df)"
   ]
  },
  {
   "cell_type": "markdown",
   "id": "abc58911",
   "metadata": {},
   "source": [
    "```{tip}\n",
    "由于我们将在稍后将此图粘贴到我们的文档中，您可能希望在这里删除输出，使用 `remove-output` 标记（参见 {ref}`hiding/remove-content`）。\n",
    "```"
   ]
  },
  {
   "cell_type": "markdown",
   "id": "9508c33f",
   "metadata": {},
   "source": [
    "(glue/pasting)=\n",
    "\n",
    "### 将绑定的变量粘贴到页面中\n",
    "\n",
    "一旦你把变量绑定到它们的名字上，你就可以把这些变量粘贴到你的书的任何地方（甚至在其他页面上）。这些变量可以使用 `glue` 家族中的角色或指令之一进行**粘贴**。"
   ]
  },
  {
   "cell_type": "markdown",
   "id": "5941381a",
   "metadata": {},
   "source": [
    "### `glue` 角色/指令\n",
    "\n",
    "最简单的角色和指令是 `glue:any`，它将被粘合的输出分别内联粘贴或作为一个块，不需要其他格式。简单的添加：\n",
    "\n",
    "````\n",
    "```{glue:} your-key\n",
    "```\n",
    "````\n",
    "\n",
    "例如，我们将使用以下文本粘贴上面生成的 plot：\n",
    "\n",
    "````md\n",
    "```{glue:} boot_fig\n",
    "```\n",
    "````\n",
    "\n",
    "它看起来是这样的：\n",
    "\n",
    "```{glue:} boot_fig\n",
    "```\n",
    "\n",
    "或者我们可以像这样粘贴作为内联对象：\n",
    "\n",
    "```md\n",
    "In-line text; {glue:}`boot_mean`, and a figure: {glue:}`boot_fig`.\n",
    "```\n",
    "\n",
    "In-line text; {glue:}`boot_mean`, and a figure: {glue:}`boot_fig`.\n",
    "\n",
    "```{tip}\n",
    "我们建议在绘制内联图时使用更宽、更短的图形，其比值约为 6x2。例如，这是一个从引导程序中排序的方法的内联图：{glue:}`sorted_means_fig`。它可以用来做一个不太复杂的视觉点！想了解更多，请查看[火花线是如何使用的](https://en.wikipedia.org/wiki/Sparkline)。\n",
    "```\n",
    "\n",
    "接下来，我们将介绍一些更具体的粘贴功能，它可以让您更好地控制粘贴后的输出在页面中的外观。"
   ]
  },
  {
   "cell_type": "markdown",
   "id": "29533563",
   "metadata": {},
   "source": [
    "## 控制粘贴的输出\n",
    "\n",
    "您可以使用子命令 `{glue:}` 来控制粘贴的输出。这些可以这样使用：`` {glue:subcommand}`key` ``。这些子命令允许您控制粘贴输出的更多外观、感觉和内容。\n",
    "\n",
    "```{tip}\n",
    "当你使用 `{glue:}` 时，你实际上是在使用 `{glue:any}` 的简写。这是一个通用的命令，它不会对你要粘的东西做很多假设。\n",
    "```"
   ]
  },
  {
   "cell_type": "markdown",
   "id": "e194a547",
   "metadata": {},
   "source": [
    "### `glue:text` 角色\n",
    "\n",
    "`glue:text` 角色特定于文本输出。例如，以下文字:\n",
    "\n",
    "```md\n",
    "The mean of the bootstrapped distribution was {glue:text}`boot_mean` (95% confidence interval {glue:text}`boot_clo`/{glue:text}`boot_chi`).\n",
    "```\n",
    "\n",
    "呈现的是：\n",
    "\n",
    "The mean of the bootstrapped distribution was {glue:text}`boot_mean` (95% confidence interval {glue:text}`boot_clo`/{glue:text}`boot_chi`)\n",
    "\n",
    "```{note}\n",
    "`glue:text` 仅适用于包含 `text/plain` 输出的 glue 变量。\n",
    "```\n",
    "\n",
    "使用 `glue:text`，我们可以为**输出添加格式**。如果您要显示数字并希望将结果四舍五入，这尤其有用。要添加格式，请使用以下语法：\n",
    "\n",
    "* `` {glue:text}`mykey:formatstring` ``\n",
    "\n",
    "例如，``My rounded mean: {glue:text}`boot_mean:.2f` `` 将被渲染为： My rounded mean: {glue:text}`boot_mean:.2f` (95% CI: {glue:text}`boot_clo:.2f`/{glue:text}`boot_chi:.2f`)。"
   ]
  },
  {
   "cell_type": "markdown",
   "id": "67e84154",
   "metadata": {},
   "source": [
    "### `glue:figure` 指令\n",
    "\n",
    "使用 `glue:figure`，你可以对类似于 figure 的对象应用更多的格式，比如给它们一个标题和可参考的标签。例如，\n",
    "\n",
    "````md\n",
    "```{glue:figure} boot_fig\n",
    ":figwidth: 300px\n",
    ":name: \"fig-boot\"\n",
    "\n",
    "This is a **caption**, with an embedded `{glue:text}` element: {glue:text}`boot_mean:.2f`!\n",
    "```\n",
    "````\n",
    "\n",
    "生成如下图：\n",
    "\n",
    "```{glue:figure} boot_fig\n",
    ":figwidth: 300px\n",
    ":name: \"fig-boot\"\n",
    "\n",
    "This is a **caption**, with an embedded `{glue:text}` element: {glue:text}`boot_mean:.2f`!\n",
    "```\n",
    "\n",
    "后来,代码\n",
    "\n",
    "```md\n",
    "Here is a {ref}`reference to the figure <fig-boot>`\n",
    "```\n",
    "\n",
    "可用于引用图。\n",
    "\n",
    "Here is a {ref}`reference to the figure <fig-boot>`"
   ]
  },
  {
   "cell_type": "markdown",
   "id": "322d2dc0",
   "metadata": {},
   "source": [
    "这里有一个表：\n",
    "\n",
    "````md\n",
    "```{glue:figure} df_tbl\n",
    ":figwidth: 300px\n",
    ":name: \"tbl:df\"\n",
    "\n",
    "A caption for a pandas table.\n",
    "```\n",
    "\n",
    "````\n",
    "\n",
    "被渲染成\n",
    "\n",
    "```{glue:figure} df_tbl\n",
    ":figwidth: 300px\n",
    ":name: \"tbl:df\"\n",
    "\n",
    "A caption for a pandas table.\n",
    "```"
   ]
  },
  {
   "cell_type": "markdown",
   "id": "a59209ea",
   "metadata": {},
   "source": [
    "### `glue:math` 指令\n",
    "\n",
    "`glue:math` 指令特定于 LaTeX 数学输出（包含 `text/latex` MIME 类型的粘合变量），其工作原理类似于 [Sphinx math 指令](https://www.sphinx-doc.org/en/1.8/usage/restructuredtext/directives.html#math)。例如，我们用这段代码粘合一个等式："
   ]
  },
  {
   "cell_type": "code",
   "execution_count": 7,
   "id": "2d93a739",
   "metadata": {},
   "outputs": [
    {
     "data": {
      "text/latex": [
       "$\\displaystyle \\left(\\sqrt{5} i\\right)^{\\alpha} \\left(\\frac{1}{2} - \\frac{2 \\sqrt{5} i}{5}\\right) + \\left(- \\sqrt{5} i\\right)^{\\alpha} \\left(\\frac{1}{2} + \\frac{2 \\sqrt{5} i}{5}\\right)$"
      ],
      "text/plain": [
       "(sqrt(5)*I)**\\alpha*(1/2 - 2*sqrt(5)*I/5) + (-sqrt(5)*I)**\\alpha*(1/2 + 2*sqrt(5)*I/5)"
      ]
     },
     "metadata": {
      "scrapbook": {
       "mime_prefix": "",
       "name": "sym_eq"
      }
     },
     "output_type": "display_data"
    }
   ],
   "source": [
    "import sympy as sym\n",
    "f = sym.Function('f')\n",
    "y = sym.Function('y')\n",
    "n = sym.symbols(r'\\alpha')\n",
    "f = y(n)-2*y(n-1/sym.pi)-5*y(n-2)\n",
    "glue(\"sym_eq\", sym.rsolve(f,y(n),[1,4]))"
   ]
  },
  {
   "cell_type": "markdown",
   "id": "d44597a8",
   "metadata": {},
   "source": [
    "现在我们可以使用以下代码：\n",
    "\n",
    "````md\n",
    "```{glue:math} sym_eq\n",
    ":label: eq-sym\n",
    "```\n",
    "````\n",
    "\n",
    "在这里插入方程：\n",
    "\n",
    "```{glue:math} sym_eq\n",
    ":label: eq-sym\n",
    "```\n",
    "\n",
    "% TODO: figure out why this isn't working\n",
    "% Which we then reference as Equation {eq}`eq-sym`.\n",
    "\n",
    "```{note}\n",
    "`glue:math` 仅适用于包含 `text/latex`  输出的粘合变量。\n",
    "```"
   ]
  },
  {
   "cell_type": "markdown",
   "id": "81903140",
   "metadata": {},
   "source": [
    "## 高级 `glue` 用例\n",
    "\n",
    "下面是 `glue` 子模块的一些更具体、更高级的用法。\n",
    "\n",
    "### 粘贴到表\n",
    "\n",
    "除了粘贴输出块或内联文本外，还可以直接粘贴到表中。这允许您使用在其他单元格或其他笔记本中生成的输出来组成结构化数据的复杂集合。例如，下面的 Markdown 表：\n",
    "\n",
    "````md\n",
    "| name                            |       plot                    | mean                      | ci                                                |\n",
    "|:-------------------------------:|:-----------------------------:|---------------------------|---------------------------------------------------|\n",
    "| histogram and raw text          | {glue:}`boot_fig`             | {glue:}`boot_mean`          | {glue:}`boot_clo`-{glue:}`boot_chi`                   |\n",
    "| sorted means and formatted text | {glue:}`sorted_means_fig`     | {glue:text}`boot_mean:.3f` | {glue:text}`boot_clo:.3f`-{glue:text}`boot_chi:.3f` |\n",
    "````\n",
    "\n",
    "结果：\n",
    "\n",
    "| name                            |       plot                  | mean                      | ci                                                |\n",
    "|:-------------------------------:|:---------------------------:|---------------------------|---------------------------------------------------|\n",
    "| histogram and raw text          | {glue:}`boot_fig`             | {glue:}`boot_mean`          | {glue:}`boot_clo`-{glue:}`boot_chi`                   |\n",
    "| sorted means and formatted text | {glue:}`sorted_means_fig`     | {glue:text}`boot_mean:.3f` | {glue:text}`boot_clo:.3f`-{glue:text}`boot_chi:.3f` |"
   ]
  }
 ],
 "metadata": {
  "jupytext": {
   "text_representation": {
    "extension": ".md",
    "format_name": "myst"
   }
  },
  "kernelspec": {
   "display_name": "Python 3",
   "language": "python",
   "name": "python3"
  },
  "language_info": {
   "codemirror_mode": {
    "name": "ipython",
    "version": 3
   },
   "file_extension": ".py",
   "mimetype": "text/x-python",
   "name": "python",
   "nbconvert_exporter": "python",
   "pygments_lexer": "ipython3",
   "version": "3.9.5"
  },
  "source_map": [
   10,
   31,
   40,
   44,
   54,
   67,
   71,
   81,
   85,
   87,
   91,
   106,
   110,
   114,
   120,
   128,
   165,
   175,
   199,
   233,
   256,
   262,
   269,
   292
  ]
 },
 "nbformat": 4,
 "nbformat_minor": 5
}