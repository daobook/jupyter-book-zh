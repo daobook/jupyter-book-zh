{
 "cells": [
  {
   "cell_type": "markdown",
   "metadata": {},
   "source": [
    "# 启动交互式计算接口\n",
    "\n",
    "因为 Jupyter Book 是用 Jupyter 笔记本构建的，所以您可以允许用户直接从您的书在云中启动实时的 Jupyter 会话。这使得读者可以在传统的编码界面中快速地与您的内容交互。他们通过点击一个将他们带到交互式环境的 **Launch Button** 来做到这一点。\n",
    "\n",
    "有许多在线笔记本服务——[这篇文章](https://www.dataschool.io/cloud-services-for-jupyter-notebook)提供了一个很好的比较——下面的章节描述了 Jupyter Book 提供的可用集成。\n",
    "\n",
    "(launchbuttons/configuration)=\n",
    "## 通用 Launch 按钮配置\n",
    "\n",
    "对于每个交互式服务，您都需要告诉 Jupyter Book 您的图书内容在线的位置。要做到这一点，请在 `_config.yml` 中配置:\n",
    "\n",
    "```yaml\n",
    "# Information about where the book exists on the web\n",
    "repository:\n",
    "  url                       : https://github.com/yourusername/yourbookrepo  # Online location of your book\n",
    "  path_to_book              : path/to/book  # Optional path to your book, relative to the repository root\n",
    "  branch                    : master  # Which branch of the repository should be used when creating links (optional)\n",
    "```\n",
    "\n",
    "下面是对每个选项的简要描述：\n",
    "\n",
    "`url`:\n",
    "  一个 GitHub 仓库，包括你的源文件，用于构建 Jupyter Book。这些文件可以位于存储库的根目录中，也可以位于子文件夹中（在这种情况下，您应该使用 `path_to_book`）。\n",
    "\n",
    "`path_to_book`:\n",
    "  相对于存储库的根目录，到图书源文件的路径。如果你的书在存储库的子文件夹中（例如 `docs/` 或 `book/`），可以使用这个方法。\n",
    "\n",
    "`branch`:\n",
    "  存储图书源文件的分支（不是通常存在于 `gh-pages/` 分支的图书的构建文件）。"
   ]
  },
  {
   "cell_type": "markdown",
   "metadata": {},
   "source": [
    "## 控制打开的笔记本界面\n",
    "\n",
    "Binder 和 JupyterHub 会话可以使用“经典的” Jupyter Notebook 或新的 JupyterLab 接口后端打开（详情见 [jupyter.org](https://jupyter.org)）。这是用以下方式配置的：\n",
    "\n",
    "```yaml\n",
    "launch_buttons:\n",
    "  notebook_interface: \"jupyterlab\"  # or \"classic\"\n",
    "```\n",
    "\n",
    "在选择界面时需要考虑的一件事是，以 [MyST Markdown](../file-types/myst-notebooks.md) 文本格式编写的笔记本不会被打开。\n",
    "\n",
    "如果您希望将这些文件作为笔记本打开，那么首先必须确保您的图书的 Binder/JupyterHub 环境中安装了  [`jupytext>=0.16`](https://jupytext.readthedocs.io/en/latest/formats.html#myst-markdown)(在谷歌 Colab 中不支持此特性)。然后你有两个选择：\n",
    "\n",
    "- 使用“classic”界面，它会立即打开这些文件作为笔记本。\n",
    "- “jupyterlab”界面(在撰写本文时)还没有实现这种行为，所以你需要指导读者右键单击 Markdown 文件，然后点击“在笔记本编辑器中打开”。"
   ]
  },
  {
   "cell_type": "markdown",
   "metadata": {},
   "source": [
    "(launchbuttons/binder)=\n",
    "## 添加 {term}`Binder` 启动按钮\n",
    "\n",
    "可以使用 {term}`BinderHub` 构建运行存储库所需的环境，并提供一个链接，允许其他人与该存储库进行交互。如果你的 Jupyter Book 是在 GitHub 上托管的，你可以自动插入链接到运行在 BinderHub 的 Jupyter Notebook 的按钮。当用户单击该按钮时，他们将被带到页面的实时版本。如果您的代码不需要大量的 CPU 或 RAM，您可以使用在 <https://mybinder.org> 上运行的免费公共 BinderHub。\n",
    "\n",
    "要自动在你的 Jupyter Book 的每一页中包含 Binder 链接按钮，请使用 `_config.yml` 中的以下配置：\n",
    "\n",
    "```yaml\n",
    "launch_buttons:\n",
    "  binderhub_url: \"https://mybinder.org\"  # The URL for your BinderHub (e.g., https://mybinder.org)\n",
    "```\n",
    "\n",
    "通过添加这个配置以及上面的存储库 url 配置，Jupyter Book 将插入 Binder 链接到从笔记本内容构建的任何页面。"
   ]
  },
  {
   "cell_type": "markdown",
   "metadata": {},
   "source": [
    "## 添加 {term}`JupyterHub` 启动按钮\n",
    "\n",
    "JupyterHub 允许您托管一个在线服务，该服务为用户提供自己的  Jupyter 服务器和您为他们指定的环境。它允许用户访问您在云中提供的资源和硬件，并允许您对用户进行身份验证，以控制谁可以访问您的硬件。\n",
    "\n",
    "与 Binder 链接按钮类似，您还可以自动包含交互链接，这些链接将您的读者发送到正在运行您页面的动态交互版本的 JupyterHub。这是通过使用 [nbgitpuller](https://github.com/jupyterhub/nbgitpuller) 服务器扩展来完成的。\n",
    "\n",
    "你可以使用以下配置设置 JupyterHub 的位置（你可以自己设置，使用指南如 [zero to jupyterhub for kubernetes](https://z2jh.jupyter.org) 或 [the littlest jupyterhub](https://tljh.jupyter.org)）：\n",
    "\n",
    "```yaml\n",
    "launch_buttons:\n",
    "  jupyterhub_url: \"your-hub-url\"  # The URL for your JupyterHub. (e.g., https://datahub.berkeley.edu)\n",
    "```\n",
    "\n",
    "在你的 JupyterHub 服务器上，你需要安装两个依赖项：\n",
    "1. 要克隆带有启动链接的笔记本，服务器需要 [`nbgitpuller`](https://jupyterhub.github.io/nbgitpuller/)。\n",
    "2. 要打开 myst-markdown 作为笔记本，服务器需要 [`jupytext>=0.16`](https://jupytext.readthedocs.io/en/latest/formats.html#myst-markdown)。\n",
    "\n",
    "你可以在 `DockerFile` 中添加：\n",
    "\n",
    "```\n",
    "RUN pip install jupytext nbgitpuller\n",
    "```"
   ]
  },
  {
   "cell_type": "markdown",
   "metadata": {},
   "source": [
    "## 添加 {term}`Google Colab` 启动按钮\n",
    "\n",
    "如果你的 Jupyter Book 托管在 GitHub 上，你可以自动插入按钮，链接到运行在 [Google Colab](https://colab.research.google.com/) 上的 Jupyter Notebook。当用户单击该按钮时，他们将被带到页面的实时版本。\n",
    "\n",
    "类似于 Binder 链接按钮，你可以在 `_config.yml` 中自动包含以下配置的谷歌 Colab 链接按钮:\n",
    "\n",
    "```yaml\n",
    "launch_buttons:\n",
    "  colab_url: \"https://colab.research.google.com\"\n",
    "```\n",
    "\n",
    "```{note}\n",
    "谷歌 Colab 链接只适用于具有 `.ipynb` 扩展名的页面。\n",
    "```"
   ]
  },
  {
   "cell_type": "code",
   "execution_count": null,
   "metadata": {},
   "outputs": [],
   "source": []
  }
 ],
 "metadata": {
  "kernelspec": {
   "display_name": "Python 3",
   "language": "python",
   "name": "python3"
  },
  "language_info": {
   "codemirror_mode": {
    "name": "ipython",
    "version": 3
   },
   "file_extension": ".py",
   "mimetype": "text/x-python",
   "name": "python",
   "nbconvert_exporter": "python",
   "pygments_lexer": "ipython3",
   "version": "3.9.5"
  },
  "widgets": {
   "application/vnd.jupyter.widget-state+json": {
    "state": {},
    "version_major": 2,
    "version_minor": 0
   }
  }
 },
 "nbformat": 4,
 "nbformat_minor": 4
}
