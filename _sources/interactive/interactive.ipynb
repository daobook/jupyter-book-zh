{
 "cells": [
  {
   "cell_type": "markdown",
   "metadata": {},
   "source": [
    "# 交互式数据可视化\r\n",
    "\r\n",
    "Jupyter Notebook 支持多种交互输出，包括 ipywidgets 生态系统以及许多交互式可视化库。在正确的配置下，Jupyter Book支持这些功能。本页有一些常见的例子。\r\n",
    "\r\n",
    "首先，我们将下载一些数据并显示其结构："
   ]
  },
  {
   "cell_type": "code",
   "execution_count": null,
   "metadata": {},
   "outputs": [],
   "source": [
    "import plotly.express as px\n",
    "data = px.data.iris()\n",
    "data.head()"
   ]
  },
  {
   "cell_type": "markdown",
   "metadata": {},
   "source": [
    "## Altair\r\n",
    "\r\n",
    "交互式输出工作的前提是，它们产生的输出具有自包含的 HTML，无需加载任何外部依赖项。请参阅 [`Altair` 安装说明](https://altair-viz.github.io/getting_started/installation.html#installation)，以便使用 Altair 进行设置。下面是一些输出示例。"
   ]
  },
  {
   "cell_type": "code",
   "execution_count": null,
   "metadata": {},
   "outputs": [],
   "source": [
    "import altair as alt\n",
    "alt.Chart(data=data).mark_point().encode(\n",
    "    x=\"sepal_width\",\n",
    "    y=\"sepal_length\",\n",
    "    color=\"species\",\n",
    "    size='sepal_length'\n",
    ")"
   ]
  },
  {
   "cell_type": "markdown",
   "metadata": {},
   "source": [
    "## Plotly\r\n",
    "\r\n",
    "Plotly 是另一个交互式绘图库，它提供了用于可视化的高级 API。请参阅 [Plotly JupyterLab 文档](https://plotly.com/python/getting-started/#JupyterLab-Support-(Python-3.5+))，在笔记本中开始使用 Plotly。\r\n",
    "\r\n",
    "```{margin}\r\n",
    "Plotly 使用[渲染器在显示绘图时输出不同类型的信息](https://plotly.com/python/renderers/)。尝试使用渲染器来获得你想要的输出。\r\n",
    "```\r\n",
    "\r\n",
    "下面是一些输出示例。\r\n",
    "\r\n",
    ":::{important}\r\n",
    "为了显示这些 plots，可能需要在 `_config.yml` 中加载 `require.js`：\r\n",
    "\r\n",
    "```yaml\r\n",
    "sphinx:\r\n",
    "  config:\r\n",
    "    html_js_files:\r\n",
    "    - https://cdnjs.cloudflare.com/ajax/libs/require.js/2.3.4/require.min.js\r\n",
    "```\r\n",
    ":::\r\n"
   ]
  },
  {
   "cell_type": "code",
   "execution_count": null,
   "metadata": {},
   "outputs": [],
   "source": [
    "import plotly.io as pio\n",
    "import plotly.express as px\n",
    "import plotly.offline as py\n",
    "\n",
    "df = px.data.iris()\n",
    "fig = px.scatter(df, x=\"sepal_width\", y=\"sepal_length\", color=\"species\", size=\"sepal_length\")\n",
    "fig"
   ]
  },
  {
   "cell_type": "markdown",
   "metadata": {},
   "source": [
    "## Bokeh\r\n",
    "\r\n",
    "Bokeh 为交互式可视化提供了几个选项，是 PyViz 生态系统的一部分。请参阅 [带有 Jupyter 的 Bokeh 文档](https://docs.bokeh.org/en/latest/docs/user_guide/jupyter.html#userguide-jupyter) 来开始。\r\n",
    "\r\n",
    "下面是一些输出示例。首先，我们将使用 `output_notebook()` 初始化 Bokeh。这需要放在一个单独的单元格中，以便给 JavaScript 时间加载。"
   ]
  },
  {
   "cell_type": "code",
   "execution_count": null,
   "metadata": {},
   "outputs": [],
   "source": [
    "from bokeh.plotting import figure, show, output_notebook\n",
    "output_notebook()"
   ]
  },
  {
   "cell_type": "markdown",
   "metadata": {},
   "source": [
    "现在我们来绘制我们的图。"
   ]
  },
  {
   "cell_type": "code",
   "execution_count": null,
   "metadata": {},
   "outputs": [],
   "source": [
    "p = figure()\n",
    "p.circle(data[\"sepal_width\"], data[\"sepal_length\"], fill_color=data[\"species\"], size=data[\"sepal_length\"])\n",
    "show(p)"
   ]
  },
  {
   "cell_type": "markdown",
   "metadata": {},
   "source": [
    "## ipywidgets\r\n",
    "\r\n",
    "您也可以在文档中运行 Jupyter Widgets 的代码，交互式 HTML 输出将嵌入到您的端中。请参阅 [ipywidgets 文档](https://ipywidgets.readthedocs.io/en/latest/user_install.html)，了解如何在自己的环境中进行设置。\r\n",
    "\r\n",
    "```{admonition} 小部件通常需要一个内核\r\n",
    "注意，`ipywidgets` 的行为倾向于不同于其他交互式可视化库。它们既与 Javascript 交互，也与 Python 交互。`ipywidgets` 中的一些功能可能无法在默认的 Jupyter Book 页面中工作（因为没有运行 Python 内核）。您可以使用用于[远程内核的工具来解决这个问题，比如 thebe](https://thebelab.readthedocs.org)。\r\n",
    "```\r\n",
    "\r\n",
    "下面是一些简单的小部件元素。"
   ]
  },
  {
   "cell_type": "code",
   "execution_count": null,
   "metadata": {},
   "outputs": [],
   "source": [
    "import ipywidgets as widgets\n",
    "widgets.IntSlider(\n",
    "    value=7,\n",
    "    min=0,\n",
    "    max=10,\n",
    "    step=1,\n",
    "    description='Test:',\n",
    "    disabled=False,\n",
    "    continuous_update=False,\n",
    "    orientation='horizontal',\n",
    "    readout=True,\n",
    "    readout_format='d'\n",
    ")"
   ]
  },
  {
   "cell_type": "code",
   "execution_count": null,
   "metadata": {},
   "outputs": [],
   "source": [
    "tab_contents = ['P0', 'P1', 'P2', 'P3', 'P4']\n",
    "children = [widgets.Text(description=name) for name in tab_contents]\n",
    "tab = widgets.Tab()\n",
    "tab.children = children\n",
    "for ii in range(len(children)):\n",
    "    tab.set_title(ii, f\"tab_{ii}\")\n",
    "tab"
   ]
  },
  {
   "cell_type": "markdown",
   "metadata": {},
   "source": [
    "您可以在 jupyter-widgets 文档中找到[现有 Jupyter Widgets 的列表](https://ipywidgets.readthedocs.io/en/latest/examples/Widget%20List.html)。"
   ]
  }
 ],
 "metadata": {
  "interpreter": {
   "hash": "7621daa449cfb4b339ccd389587967b5ff727f4c725360f7cd8300652790f802"
  },
  "kernelspec": {
   "display_name": "Python 3.9.5 64-bit ('ai': conda)",
   "name": "python3"
  },
  "language_info": {
   "name": "python",
   "version": ""
  }
 },
 "nbformat": 4,
 "nbformat_minor": 4
}