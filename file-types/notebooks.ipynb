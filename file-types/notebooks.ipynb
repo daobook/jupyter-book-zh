{
 "cells": [
  {
   "cell_type": "markdown",
   "source": [
    "(file-types:notebooks)=\r\n",
    "# Jupyter Notebook 文件\r\n",
    "\r\n",
    "可以使用 Jupyter notebooks 创建内容。\r\n",
    "例如，当前页的内容包含在 {download}`这个笔记本文件中<./notebooks.ipynb>`。\r\n",
    "\r\n",
    "```{margin}\r\n",
    "如果你想写纯文本文件，但仍然保持一个笔记本的结构，你可以用 MyST Markdown 写 Jupyter 笔记本，然后它会自动转换为笔记本。\r\n",
    "查阅 [](./myst-notebooks.md) 获取更多信息。\r\n",
    "```\r\n",
    "\r\n",
    "Jupyter Book 支持所有被 Jupyter Notebook 支持的 Markdown。\r\n",
    "这主要是一种 Markdown 的风格，叫做 [CommonMark Markdown](https://commonmark.org/)，只是做了一些小修改。\r\n",
    "要想了解更多关于如何编写 Jupyter 风格的 Markdown 的信息，请参见 [](./markdown.md)。\r\n",
    "\r\n",
    "## 代码块和图像输出\r\n",
    "\r\n",
    "Jupyter Book 还将在书中嵌入代码块和输出。例如，下面是一些 Matplotlib 代码的示例："
   ],
   "metadata": {}
  },
  {
   "cell_type": "code",
   "execution_count": null,
   "source": [
    "from matplotlib import rcParams, cycler\r\n",
    "import matplotlib.pyplot as plt\r\n",
    "import numpy as np\r\n",
    "plt.ion()"
   ],
   "outputs": [],
   "metadata": {}
  },
  {
   "cell_type": "code",
   "execution_count": null,
   "source": [
    "# Fixing random state for reproducibility\r\n",
    "np.random.seed(19680801)\r\n",
    "\r\n",
    "N = 10\r\n",
    "data = [np.logspace(0, 1, 100) + np.random.randn(100) + ii for ii in range(N)]\r\n",
    "data = np.array(data).T\r\n",
    "cmap = plt.cm.coolwarm\r\n",
    "rcParams['axes.prop_cycle'] = cycler(color=cmap(np.linspace(0, 1, N)))\r\n",
    "\r\n",
    "\r\n",
    "from matplotlib.lines import Line2D\r\n",
    "custom_lines = [Line2D([0], [0], color=cmap(0.), lw=4),\r\n",
    "                Line2D([0], [0], color=cmap(.5), lw=4),\r\n",
    "                Line2D([0], [0], color=cmap(1.), lw=4)]\r\n",
    "\r\n",
    "fig, ax = plt.subplots(figsize=(10, 5))\r\n",
    "lines = ax.plot(data)\r\n",
    "ax.legend(custom_lines, ['Cold', 'Medium', 'Hot']);"
   ],
   "outputs": [],
   "metadata": {
    "tags": [
     "remove-stdout"
    ]
   }
  },
  {
   "cell_type": "markdown",
   "source": [
    "注意，上面的图像被捕获并显示在您的站点中。"
   ],
   "metadata": {}
  },
  {
   "cell_type": "code",
   "execution_count": null,
   "source": [
    "# Fixing random state for reproducibility\n",
    "np.random.seed(19680801)\n",
    "\n",
    "N = 10\n",
    "data = [np.logspace(0, 1, 100) + .1*np.random.randn(100) + ii for ii in range(N)]\n",
    "data = np.array(data).T\n",
    "cmap = plt.cm.coolwarm\n",
    "rcParams['axes.prop_cycle'] = cycler(color=cmap(np.linspace(0, 1, N)))\n",
    "\n",
    "\n",
    "from matplotlib.lines import Line2D\n",
    "custom_lines = [Line2D([0], [0], color=cmap(0.), lw=4),\n",
    "                Line2D([0], [0], color=cmap(.5), lw=4),\n",
    "                Line2D([0], [0], color=cmap(1.), lw=4)]\n",
    "\n",
    "fig, ax = plt.subplots(figsize=(10, 5))\n",
    "lines = ax.plot(data)\n",
    "ax.legend(custom_lines, ['Cold', 'Medium', 'Hot'])\n",
    "ax.set(title=\"Smoother linez\")"
   ],
   "outputs": [],
   "metadata": {
    "tags": [
     "popout",
     "remove-input",
     "remove-stdout"
    ]
   }
  },
  {
   "cell_type": "markdown",
   "source": [
    "```{margin} **您也可以弹出内容到一边！**\n",
    "有关如何做到这一点的更多信息，查看 {ref}`layout/sidebar` 部分。\n",
    "```"
   ],
   "metadata": {
    "tags": [
     "popout"
    ]
   }
  },
  {
   "cell_type": "markdown",
   "source": [
    "## 在发布前删除内容\n",
    "\n",
    "你也可以在将你的书发布到网上之前删除一些内容。\n",
    "作为参考，{download}`您可以下载本页的笔记本内容 <notebooks.ipynb>`。"
   ],
   "metadata": {}
  },
  {
   "cell_type": "code",
   "execution_count": null,
   "source": [
    "thisvariable = \"none of this should show up in the textbook\"\n",
    "\n",
    "fig, ax = plt.subplots()\n",
    "x = np.random.randn(100)\n",
    "y = np.random.randn(100)\n",
    "ax.scatter(x, y, s=np.abs(x*100), c=x, cmap=plt.cm.coolwarm)\n",
    "ax.text(0, .5, thisvariable, fontsize=20, transform=ax.transAxes)\n",
    "ax.set_axis_off()"
   ],
   "outputs": [],
   "metadata": {
    "tags": [
     "remove-cell"
    ]
   }
  },
  {
   "cell_type": "markdown",
   "source": [
    "您可以**只删除代码**，以便图像和其他输出仍然显示。"
   ],
   "metadata": {}
  },
  {
   "cell_type": "code",
   "execution_count": null,
   "source": [
    "thisvariable = \"this plot *will* show up in the textbook.\"\n",
    "\n",
    "fig, ax = plt.subplots()\n",
    "x = np.random.randn(100)\n",
    "y = np.random.randn(100)\n",
    "ax.scatter(x, y, s=np.abs(x*100), c=x, cmap=plt.cm.coolwarm)\n",
    "ax.text(0, .5, thisvariable, fontsize=20, transform=ax.transAxes)\n",
    "ax.set_axis_off()"
   ],
   "outputs": [],
   "metadata": {
    "tags": [
     "hide-input"
    ]
   }
  },
  {
   "cell_type": "markdown",
   "source": [
    "如果您想快速显示单元格输出，而不需要用代码混淆内容，那么这种方法可以很好地工作。\n",
    "这适用于任何单元格输出，比如 Pandas DataFrame。"
   ],
   "metadata": {}
  },
  {
   "cell_type": "code",
   "execution_count": null,
   "source": [
    "import pandas as pd\n",
    "pd.DataFrame([['hi', 'there'], ['this', 'is'], ['a', 'DataFrame']], columns=['Word A', 'Word B'])"
   ],
   "outputs": [],
   "metadata": {
    "tags": [
     "hide-input"
    ]
   }
  },
  {
   "cell_type": "markdown",
   "source": [
    "查阅 {ref}`hiding/remove-content` 了解更多关于如何删除和隐藏内容的信息。\n",
    "\n",
    "## 可交互的输出\n",
    "\n",
    "我们可以对“交互”材料做同样的事情。下面我们将展示一张使用 [folium](https://python-visualization.github.io/folium/) 的地图。在构建图书时，将保留创建交互式地图的代码。\n",
    "\n",
    "```{margin}\n",
    "**这将只适用于一些软件包。** 他们需要能够输出独立的 HTML/Javascript，而不是依赖底层的 Python 内核来工作。\n",
    "```"
   ],
   "metadata": {}
  },
  {
   "cell_type": "code",
   "execution_count": null,
   "source": [
    "import folium\n",
    "m = folium.Map(\n",
    "    location=[45.372, -121.6972],\n",
    "    zoom_start=12,\n",
    "    tiles='Stamen Terrain'\n",
    ")\n",
    "\n",
    "folium.Marker(\n",
    "    location=[45.3288, -121.6625],\n",
    "    popup='Mt. Hood Meadows',\n",
    "    icon=folium.Icon(icon='cloud')\n",
    ").add_to(m)\n",
    "\n",
    "folium.Marker(\n",
    "    location=[45.3311, -121.7113],\n",
    "    popup='Timberline Lodge',\n",
    "    icon=folium.Icon(color='green')\n",
    ").add_to(m)\n",
    "\n",
    "folium.Marker(\n",
    "    location=[45.3300, -121.6823],\n",
    "    popup='Some Other Location',\n",
    "    icon=folium.Icon(color='red', icon='info-sign')\n",
    ").add_to(m)\n",
    "\n",
    "m"
   ],
   "outputs": [],
   "metadata": {}
  },
  {
   "cell_type": "markdown",
   "source": [
    "## 笔记本单元格的富文本输出\n",
    "\n",
    "因为笔记本有富文本输出，你可以存储这些在你的 Jupyter Book！例如，下面是命令行帮助菜单，看看它是如何很好地格式化的。"
   ],
   "metadata": {}
  },
  {
   "cell_type": "code",
   "execution_count": null,
   "source": [
    "!jupyter-book build --help"
   ],
   "outputs": [],
   "metadata": {}
  },
  {
   "cell_type": "markdown",
   "source": [
    "这里有个错误。可以通过添加 `raises-exception` 标签。"
   ],
   "metadata": {}
  },
  {
   "cell_type": "code",
   "execution_count": null,
   "source": [
    "this_will_error"
   ],
   "outputs": [],
   "metadata": {
    "tags": [
     "raises-exception"
    ]
   }
  },
  {
   "cell_type": "markdown",
   "source": [
    "## Jupyter 笔记本的更多特性\n",
    "\n",
    "Jupyter 笔记本还有许多其他特性可以利用，比如自动生成笔记本的 Binder 链接，或者将您的内容与云中的内核连接。\n",
    "要了解更多信息，请浏览本站点的页面，特别是 [](content:code-outputs)。"
   ],
   "metadata": {}
  }
 ],
 "metadata": {
  "kernelspec": {
   "display_name": "Python 3",
   "language": "python",
   "name": "python3"
  },
  "language_info": {
   "codemirror_mode": {
    "name": "ipython",
    "version": 3
   },
   "file_extension": ".py",
   "mimetype": "text/x-python",
   "name": "python",
   "nbconvert_exporter": "python",
   "pygments_lexer": "ipython3",
   "version": "3.7.6"
  },
  "toc": {
   "base_numbering": 1,
   "nav_menu": {},
   "number_sections": false,
   "sideBar": true,
   "skip_h1_title": false,
   "title_cell": "Table of Contents",
   "title_sidebar": "Contents",
   "toc_cell": false,
   "toc_position": {},
   "toc_section_display": true,
   "toc_window_display": false
  }
 },
 "nbformat": 4,
 "nbformat_minor": 4
}